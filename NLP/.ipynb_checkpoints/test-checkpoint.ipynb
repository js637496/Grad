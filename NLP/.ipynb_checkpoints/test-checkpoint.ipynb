{
 "cells": [
  {
   "cell_type": "markdown",
   "metadata": {},
   "source": [
    "# HW 1: Twenty Small Python/NLTK Exercisesjj"
   ]
  },
  {
   "cell_type": "markdown",
   "metadata": {},
   "source": [
    "## Date Out: Tuesday, February 11\n",
    "## Due Date: Thursday, February 20"
   ]
  },
  {
   "cell_type": "markdown",
   "metadata": {},
   "source": [
    "This introductory programming assignment is composed Python exercises, ranging from introductory to more advanced (OO, inheritance, classes). Python is not a difficult language to learn (as long as you already know a procedural language like Java or C++). However, its syntax is different and there are a handful of very unique features, some of which come in very handy for text processing. You'll discover that you can write powerful Python programs in less lines than would be required in Java.\n",
    "\n",
    "We've already discussed that Python is not a prerequisite for this class, and while we will introduce and practice some aspects of Python in-class, you are expected to google, learn, and practice any other areas of Python that you'll need on your own. Don't be afraid to figure out how to do something!\n",
    "\n",
    "This homework should prepare you for more complicated programming in the weeks ahead. More formally, the objectives of this homework are:\n",
    "* Learning the basics of Python through hands-on programming\n",
    "* Getting comfortable with a Jupyter notebook environment\n",
    "* Testing your code by using provided test cases\n",
    "\n",
    "This is an individual programming assignment."
   ]
  },
  {
   "cell_type": "markdown",
   "metadata": {},
   "source": [
    "### Python Resources\n",
    "\n",
    "See the Python resources that I provided on the main coursepage, in week 1 under \"Resources\".\n",
    "I also use google a lot to answer my Python questions -- however, be sure that the \"answers\" that you are looking at are for Python 3.x code. (Version 2.x is still very popular, and thus, often is returned as a higher search result.)"
   ]
  },
  {
   "cell_type": "markdown",
   "metadata": {},
   "source": [
    "### Grading\n",
    "\n",
    "I will primarily be running your notebook against unit tests.\n",
    "\n",
    "_More passing tests = higher grade!_"
   ]
  },
  {
   "cell_type": "markdown",
   "metadata": {},
   "source": [
    "### Submission instructions\n",
    "\n",
    "Submit your `.ipynb` notebook file to the D2L Assignments folder for this homework."
   ]
  },
  {
   "cell_type": "markdown",
   "metadata": {},
   "source": [
    "<hr>"
   ]
  },
  {
   "cell_type": "markdown",
   "metadata": {},
   "source": [
    "### Homework Problems"
   ]
  },
  {
   "cell_type": "markdown",
   "metadata": {},
   "source": [
    "1. Define a function <code>is_palindrome()</code> that recognizes palindromes (i.e. words that read the same backward or foreward). For example, <code>is_palindrome(\"radar\")</code> should return <samp>True</samp>."
   ]
  },
  {
   "cell_type": "code",
   "execution_count": null,
   "metadata": {},
   "outputs": [],
   "source": [
    "# YOUR PYTHON CODE HERE"
   ]
  },
  {
   "cell_type": "code",
   "execution_count": null,
   "metadata": {},
   "outputs": [],
   "source": [
    "# TEST YOUR FUNCTION HERE"
   ]
  },
  {
   "cell_type": "markdown",
   "metadata": {},
   "source": [
    "2. Write a function named <code>odd_list</code> that takes a list of numbers and returns a new list that only contains those numbers that are odd."
   ]
  },
  {
   "cell_type": "code",
   "execution_count": null,
   "metadata": {},
   "outputs": [],
   "source": [
    "# YOUR PYTHON CODE HERE"
   ]
  },
  {
   "cell_type": "code",
   "execution_count": null,
   "metadata": {},
   "outputs": [],
   "source": [
    "# TEST YOUR FUNCTION HERE"
   ]
  },
  {
   "cell_type": "markdown",
   "metadata": {},
   "source": [
    "3. Write a function called <code>is_sorted</code> that takes a list as a parameter and returns <samp>True</samp> if the list is sorted in ascending order and <samp>False</samp> otherwise. You can assume (as a precondition) that the elements of the list can be compared with the relational operators `<`, `>`, etc. For example, `is_sorted([1,2,2])` should return `True` and `is_sorted(['b','a'])` should return `False`."
   ]
  },
  {
   "cell_type": "code",
   "execution_count": null,
   "metadata": {},
   "outputs": [],
   "source": [
    "# YOUR PYTHON CODE HERE"
   ]
  },
  {
   "cell_type": "code",
   "execution_count": null,
   "metadata": {},
   "outputs": [],
   "source": [
    "# TEST YOUR FUNCTION HERE"
   ]
  },
  {
   "cell_type": "markdown",
   "metadata": {},
   "source": [
    "4. Write a function `starts_with_vowel` that takes a character (a string of length 1) and returns `True` if it is a vowel, `False` otherwise."
   ]
  },
  {
   "cell_type": "code",
   "execution_count": null,
   "metadata": {},
   "outputs": [],
   "source": [
    "# YOUR PYTHON CODE HERE"
   ]
  },
  {
   "cell_type": "code",
   "execution_count": null,
   "metadata": {},
   "outputs": [],
   "source": [
    "# TEST YOUR FUNCTION HERE"
   ]
  },
  {
   "cell_type": "markdown",
   "metadata": {},
   "source": [
    "5. Two words are anagrams if you can rearrange the letters from one to spell the other. Write a function called <code>is_anagram</code> that takes two strings and returns <samp>True</samp> if they are anagrams."
   ]
  },
  {
   "cell_type": "code",
   "execution_count": null,
   "metadata": {},
   "outputs": [],
   "source": [
    "# YOUR PYTHON CODE HERE"
   ]
  },
  {
   "cell_type": "code",
   "execution_count": null,
   "metadata": {},
   "outputs": [],
   "source": [
    "# TEST YOUR FUNCTION HERE"
   ]
  },
  {
   "cell_type": "markdown",
   "metadata": {},
   "source": [
    "6. A pangram is a sentence that contains all the letters of the English alphabet at least once, for example: <samp>The quick brown fox jumps over the lazy dog</samp>. Write a function <code>is_pangram</code> to check a sentence to see if it is a pangram or not."
   ]
  },
  {
   "cell_type": "code",
   "execution_count": null,
   "metadata": {},
   "outputs": [],
   "source": [
    "# YOUR PYTHON CODE HERE"
   ]
  },
  {
   "cell_type": "code",
   "execution_count": null,
   "metadata": {},
   "outputs": [],
   "source": [
    "# TEST YOUR FUNCTION HERE"
   ]
  },
  {
   "cell_type": "markdown",
   "metadata": {},
   "source": [
    "7. Write a function `char_freq()` that takes a string and builds a frequency listing of the characters contained in it. Represent the frequency listing as a Python dictionary that the function returns."
   ]
  },
  {
   "cell_type": "code",
   "execution_count": null,
   "metadata": {},
   "outputs": [],
   "source": [
    "# YOUR PYTHON CODE HERE"
   ]
  },
  {
   "cell_type": "code",
   "execution_count": null,
   "metadata": {},
   "outputs": [],
   "source": [
    "# TEST YOUR FUNCTION HERE"
   ]
  },
  {
   "cell_type": "markdown",
   "metadata": {},
   "source": [
    "8. In cryptography, a Caesar cipher is a very simple encryption techniques in which each letter in the plain text is replaced by a letter some fixed number of positions down the alphabet. For example, with a shift of 3, `A` would be replaced by `D`, `B` would become `E`, and so on. The method is named after Julius Caesar, who used it to communicate with his generals. <u>ROT-13</u> (\"rotate by 13 places\") is a widely used example of a Caesar cipher where the shift is 13. In Python, the key for ROT-13 may be represented by means of the following dictionary:\n",
    "\n",
    "```python\n",
    "key = {'a':'n', 'b':'o', 'c':'p', 'd':'q', 'e':'r', 'f':'s', 'g':'t', 'h':'u', \n",
    "       'i':'v', 'j':'w', 'k':'x', 'l':'y', 'm':'z', 'n':'a', 'o':'b', 'p':'c', \n",
    "       'q':'d', 'r':'e', 's':'f', 't':'g', 'u':'h', 'v':'i', 'w':'j', 'x':'k',\n",
    "       'y':'l', 'z':'m', 'A':'N', 'B':'O', 'C':'P', 'D':'Q', 'E':'R', 'F':'S', \n",
    "       'G':'T', 'H':'U', 'I':'V', 'J':'W', 'K':'X', 'L':'Y', 'M':'Z', 'N':'A', \n",
    "       'O':'B', 'P':'C', 'Q':'D', 'R':'E', 'S':'F', 'T':'G', 'U':'H', 'V':'I', \n",
    "       'W':'J', 'X':'K', 'Y':'L', 'Z':'M'}\n",
    "```\n",
    "\n",
    "Write two functions: `encode` and `decode`, which take a string and return that string encoded/decoded using ROT-13. For example, the string `To be or not to be, That is the question` would be encoded to `Gb or be abg gb or, Gung vf gur dhrfgvba` using <u>ROT-13</u>."
   ]
  },
  {
   "cell_type": "code",
   "execution_count": null,
   "metadata": {},
   "outputs": [],
   "source": [
    "# YOUR PYTHON CODE HERE"
   ]
  },
  {
   "cell_type": "code",
   "execution_count": null,
   "metadata": {},
   "outputs": [],
   "source": [
    "# TEST YOUR FUNCTION HERE"
   ]
  },
  {
   "cell_type": "markdown",
   "metadata": {},
   "source": [
    "9. Write a function `word_length` that maps a list of words into a list of integers representing the lengths of the correponding words. Use list comprehension to iterate over the list, rather than a \"usual loop\". You must use list comprehension for credit. (Hint: the body of your function should be one line of code.)"
   ]
  },
  {
   "cell_type": "code",
   "execution_count": null,
   "metadata": {},
   "outputs": [],
   "source": [
    "# YOUR PYTHON CODE HERE"
   ]
  },
  {
   "cell_type": "code",
   "execution_count": null,
   "metadata": {},
   "outputs": [],
   "source": [
    "# TEST YOUR FUNCTION HERE"
   ]
  },
  {
   "cell_type": "markdown",
   "metadata": {},
   "source": [
    "10. Write a function named `filter_long_words` that takes a list of words and an integer `n` and returns the list of words, CAPITALIZED, that are longer than `n`. Use list comprehension again, like the last problem, instead of a \"usual loop\". You must use list comprehension for credit. (Hint: the body of your function should be one line of code.)"
   ]
  },
  {
   "cell_type": "code",
   "execution_count": null,
   "metadata": {},
   "outputs": [],
   "source": [
    "# YOUR PYTHON CODE HERE"
   ]
  },
  {
   "cell_type": "code",
   "execution_count": null,
   "metadata": {},
   "outputs": [],
   "source": [
    "# TEST YOUR FUNCTION HERE"
   ]
  },
  {
   "cell_type": "markdown",
   "metadata": {},
   "source": [
    "11. Write a function `password_check` that checks the validity of password input by users. The function should accept the password as a string argument, and return True for valid, or False for invalid. The following criteria should be used to check the password:\n",
    "  * it contains at least 1 uppercase letter\n",
    "  * it contains at least 1 number\n",
    "  * it contains at least 1 lowercase letter\n",
    "  * it contains at least 1 of the following symbols: ^@#$%\n",
    "  * it has at least 6 characters\n",
    "  * it has at most 12 characters"
   ]
  },
  {
   "cell_type": "code",
   "execution_count": null,
   "metadata": {},
   "outputs": [],
   "source": [
    "# YOUR PYTHON CODE HERE"
   ]
  },
  {
   "cell_type": "code",
   "execution_count": null,
   "metadata": {},
   "outputs": [],
   "source": [
    "# TEST YOUR FUNCTION HERE"
   ]
  },
  {
   "cell_type": "markdown",
   "metadata": {},
   "source": [
    "12. Write a function `b_alphabetical` that takes one argument (a list of words) and returns as a list all the words that begin with the letter `b`, in alphabetical order."
   ]
  },
  {
   "cell_type": "code",
   "execution_count": null,
   "metadata": {},
   "outputs": [],
   "source": [
    "# YOUR PYTHON CODE HERE"
   ]
  },
  {
   "cell_type": "code",
   "execution_count": null,
   "metadata": {},
   "outputs": [],
   "source": [
    "# TEST YOUR FUNCTION HERE"
   ]
  },
  {
   "cell_type": "markdown",
   "metadata": {},
   "source": [
    "13. Write a function `text_select` that finds all words in a specified NLTK text (an `Nltk.Text` object: one of text1, text2, ... text9) that meet the following conditions:\n",
    "  * ending in ize\n",
    "  * containing the letter z\n",
    "  * containing the sequence of letters pt\n",
    "  * are all lowercase, except the first character is a capital letter\n",
    "  \n",
    "Return these words as a list."
   ]
  },
  {
   "cell_type": "code",
   "execution_count": null,
   "metadata": {},
   "outputs": [],
   "source": [
    "# YOUR PYTHON CODE HERE"
   ]
  },
  {
   "cell_type": "code",
   "execution_count": null,
   "metadata": {},
   "outputs": [],
   "source": [
    "# TEST YOUR FUNCTION HERE"
   ]
  },
  {
   "cell_type": "markdown",
   "metadata": {},
   "source": [
    "14. Write a function `vocab_size` that takes as an argument an NLTK text, and returns the vocabulary size of the text."
   ]
  },
  {
   "cell_type": "code",
   "execution_count": null,
   "metadata": {},
   "outputs": [],
   "source": [
    "# YOUR PYTHON CODE HERE"
   ]
  },
  {
   "cell_type": "code",
   "execution_count": null,
   "metadata": {},
   "outputs": [],
   "source": [
    "# TEST YOUR FUNCTION HERE"
   ]
  },
  {
   "cell_type": "markdown",
   "metadata": {},
   "source": [
    "15. Read in the texts of the State of the Union addresses, using the `state_union` corpus reader. Count occurrences of men, women, and people in each document. Return this information as a dictionary, which the following representation: for each dictionary entry, set the key to be one of the State of the Union addresses, and let the value be a 3-item tuple, which is the number of men, women, and people in that document."
   ]
  },
  {
   "cell_type": "code",
   "execution_count": null,
   "metadata": {},
   "outputs": [],
   "source": [
    "# YOUR PYTHON CODE HERE"
   ]
  },
  {
   "cell_type": "code",
   "execution_count": null,
   "metadata": {},
   "outputs": [],
   "source": [
    "# TEST YOUR FUNCTION HERE"
   ]
  },
  {
   "cell_type": "markdown",
   "metadata": {},
   "source": [
    "16. Write a function `fifty` that takes an argument, an NLTK text, and returns as a list the 50 most frequently occurring words of the text that are not stopwords."
   ]
  },
  {
   "cell_type": "code",
   "execution_count": null,
   "metadata": {},
   "outputs": [],
   "source": [
    "# YOUR PYTHON CODE HERE"
   ]
  },
  {
   "cell_type": "code",
   "execution_count": null,
   "metadata": {},
   "outputs": [],
   "source": [
    "# TEST YOUR FUNCTION HERE"
   ]
  },
  {
   "cell_type": "markdown",
   "metadata": {},
   "source": [
    "17. Write a function `novel_10` that takes a NLTK text argument and returns in a list any word that appeared in the last 10% of the text that had not been encountered earlier."
   ]
  },
  {
   "cell_type": "code",
   "execution_count": null,
   "metadata": {},
   "outputs": [],
   "source": [
    "# YOUR PYTHON CODE HERE"
   ]
  },
  {
   "cell_type": "code",
   "execution_count": null,
   "metadata": {},
   "outputs": [],
   "source": [
    "# TEST YOUR FUNCTION HERE"
   ]
  },
  {
   "cell_type": "markdown",
   "metadata": {},
   "source": [
    "18. Write a function `sent_info` that takes a sentence expressed as a single string, splits it and counts up the words. Have the function print out each word and the word's frequency, one per line, in alphabetical order."
   ]
  },
  {
   "cell_type": "code",
   "execution_count": null,
   "metadata": {},
   "outputs": [],
   "source": [
    "# YOUR PYTHON CODE HERE"
   ]
  },
  {
   "cell_type": "code",
   "execution_count": null,
   "metadata": {},
   "outputs": [],
   "source": [
    "# TEST YOUR FUNCTION HERE"
   ]
  },
  {
   "cell_type": "markdown",
   "metadata": {},
   "source": [
    "19. Write a function `unknown` that takes a URL as its argument, and returns a list of unknown words that occur on that webpage. In order to do this, extract all substrings consisting of lowercase letters (using `re.findall()`) and remove any items from this set that occur in the Words Corpus (`nltk.corpus.words`)."
   ]
  },
  {
   "cell_type": "code",
   "execution_count": null,
   "metadata": {},
   "outputs": [],
   "source": [
    "# YOUR PYTHON CODE HERE"
   ]
  },
  {
   "cell_type": "code",
   "execution_count": null,
   "metadata": {},
   "outputs": [],
   "source": [
    "# TEST YOUR FUNCTION HERE"
   ]
  },
  {
   "cell_type": "markdown",
   "metadata": {},
   "source": [
    "20. Readability measures are used to score the reading difficulty of a text, for the purposes of selecting texts of appropriate difficulty for language learners. Let us define $\\mu_w$ to be the average number of letters per word, and $\\mu_s$ to be the average number of words per sentence, in a given text. The Automated Readability Index (ARI) of the text is defined to be: $$4.71 \\mu w + 0.5 \\mu s - 21.43$$. Write a function `readability` that computes the ARI score for various sections of the Brown Corpus. The function should take as an arugment a section of the Brown Corpus represented by a letter (e.g. Section F is \"popular lore\" and Section J is \"learned\"). Make use of the fact that `nltk.corpus.brown.words()` produces a sequence of words, while `nltk.corpus.brown.sents()` produces a sequence of sentences."
   ]
  },
  {
   "cell_type": "code",
   "execution_count": null,
   "metadata": {},
   "outputs": [],
   "source": [
    "# YOUR PYTHON CODE HERE"
   ]
  },
  {
   "cell_type": "code",
   "execution_count": null,
   "metadata": {},
   "outputs": [],
   "source": [
    "# TEST YOUR FUNCTION HERE"
   ]
  },
  {
   "cell_type": "markdown",
   "metadata": {},
   "source": [
    "<hr>"
   ]
  },
  {
   "cell_type": "markdown",
   "metadata": {},
   "source": [
    "# Testing\n",
    "\n",
    "Execute the following <u>two cells</u> which specifies some unit tests for the above problems:\n",
    "* The first cell specifies the tests.\n",
    "* The second cell runs the tests.\n",
    "\n",
    "I will test your code using these, as well as other held-out tests."
   ]
  },
  {
   "cell_type": "code",
   "execution_count": null,
   "metadata": {},
   "outputs": [],
   "source": [
    "import unittest\n",
    "\n",
    "class TestMethods(unittest.TestCase):\n",
    "\n",
    "    def test_is_palindrome(self):\n",
    "        self.assertTrue(is_palindrome(\"radar\"))\n",
    "        self.assertFalse(is_palindrome(\"radars\"))\n",
    "\n",
    "    def test_odd_list(self):\n",
    "        self.assertEqual(odd_list([1,2,3,4,5]), [1,3,5])\n",
    "\n",
    "    def test_is_sorted(self):\n",
    "        self.assertTrue(is_sorted([1,2,2]))\n",
    "        self.assertFalse(is_sorted(['b','a']))\n",
    "        \n",
    "    def test_starts_with_vowel(self):\n",
    "        self.assertTrue(starts_with_vowel(\"a\"))\n",
    "        self.assertTrue(starts_with_vowel(\"U\"))        \n",
    "\n",
    "    def test_is_anagram(self):\n",
    "        self.assertTrue(is_anagram(\"school master\", \"the classroom\"))\n",
    "        self.assertFalse(is_anagram(\"school\", \"classroom\"))\n",
    "\n",
    "    def test_is_pangram(self):\n",
    "        self.assertTrue(is_pangram(\"the quick brown fox jumps over the lazy dog\"))\n",
    "        self.assertFalse(is_pangram(\"the quick brown fox jumps over the lazy fox\"))\n",
    "\n",
    "    def test_char_freq(self):\n",
    "        self.assertEqual(char_freq('to be or not to be'),\n",
    "                         {'t':3, 'o':4, ' ':5, 'b':2, 'e':2, 'r':1, 'n':1})\n",
    "\n",
    "    def test_encode(self):\n",
    "        self.assertEqual(encode(\"To be or not to be, That is the question\"), \"Gb or be abg gb or, Gung vf gur dhrfgvba\")\n",
    "\n",
    "    def test_decode(self):\n",
    "        self.assertEqual(decode(\"Gb or be abg gb or, Gung vf gur dhrfgvba\"), \"To be or not to be, That is the question\")\n",
    "\n",
    "    def test_word_length(self):\n",
    "        self.assertEqual(word_length([\"the\", \"quick\", \"brown\", \"fox\"]), [3, 5, 5, 3])\n",
    "\n",
    "    def test_filter_long_words(self):\n",
    "        self.assertEqual(filter_long_words([\"the\", \"quick\", \"brown\", \"fox\"], 4), [\"QUICK\", \"BROWN\"])\n",
    "        \n",
    "    def test_password_check(self):\n",
    "        self.assertFalse(password_check('password'))          \n",
    "        self.assertTrue(password_check('pAs$w0rd'))\n",
    "\n",
    "    def test_b_alphabetical(self):\n",
    "        self.assertEqual(b_alphabetical(['baseball','is','not','boring']), ['baseball','boring'])\n",
    "\n",
    "    def test_text_select(self):\n",
    "        self.assertEqual(text_select(nltk.Text(['the','cat','Axptxize','in'])), ['Axptxize'])\n",
    "        self.assertEqual(text_select(nltk.Text(['the','cat','in'])), [])\n",
    "        self.assertEqual(text_select(nltk.Text(['the','Pdgspsdptize','Axptxize','in'])), \n",
    "            ['Pdgspsdptize','Axptxize'])\n",
    "\n",
    "    def test_vocab_size(self):\n",
    "        self.assertEqual(vocab_size(nltk.book.text4), 9754)  \n",
    "        self.assertEqual(vocab_size(nltk.Text(['the','cat','in','the','hat'])), 4)\n",
    "    \n",
    "    def test_state_union(self):\n",
    "        dict = state_union()\n",
    "        self.assertEqual(dict['2006-GWBush.txt'], (7,7,22))\n",
    "\n",
    "    def test_fifty(self):\n",
    "        self.assertEqual(fifty(nltk.book.text7)[:5], [',', '.', '*-1', '0', '*'])\n",
    "        self.assertEqual(fifty(nltk.book.text7)[5:9], [\"'s\", '*T*-1', '*U*', '$'])\n",
    "        self.assertTrue('million' in fifty(nltk.book.text7))\n",
    "        self.assertTrue('said' in fifty(nltk.book.text7))\n",
    "        self.assertFalse('he' in fifty(nltk.book.text7))\n",
    "        self.assertFalse('deposit' in fifty(nltk.book.text7))\n",
    "\n",
    "\n",
    "    def test_novel_10(self):\n",
    "        self.assertEqual(novel_10(nltk.Text(['the','cat','in','the','hat','ate','the','big','hairy','and','gray','rat','hat'])), ['rat'])\n",
    "\n",
    "    # TODO -- fix this test\n",
    "    def test_sent_info(self):\n",
    "        self.assertEqual(sent_info('the cat in the hat'),\n",
    "            \"\"\"cat 1\n",
    "hat 1\n",
    "in 1\n",
    "the 2\"\"\")\n",
    "\n",
    "    \n",
    "    def test_unknown(self):\n",
    "        #unknownlist = unknown('http://www.cs.wcupa.edu/rburns/NLP')\n",
    "        unknownlist = unknown('http://www.google.com')\n",
    "        self.assertFalse('event' in unknownlist)\n",
    "        self.assertFalse('credit' in unknownlist)\n",
    "        self.assertTrue('google' in unknownlist)\n",
    "\n",
    "    def test_readability(self):\n",
    "        self.assertAlmostEqual(readability('f'), 10.254756197101155, places=2)        "
   ]
  },
  {
   "cell_type": "code",
   "execution_count": null,
   "metadata": {},
   "outputs": [],
   "source": [
    "unittest.main(argv=[''], verbosity=2, exit=False)"
   ]
  },
  {
   "cell_type": "code",
   "execution_count": null,
   "metadata": {},
   "outputs": [],
   "source": []
  }
 ],
 "metadata": {
  "kernelspec": {
   "display_name": "Python 3",
   "language": "python",
   "name": "python3"
  },
  "language_info": {
   "codemirror_mode": {
    "name": "ipython",
    "version": 3
   },
   "file_extension": ".py",
   "mimetype": "text/x-python",
   "name": "python",
   "nbconvert_exporter": "python",
   "pygments_lexer": "ipython3",
   "version": "3.7.3"
  }
 },
 "nbformat": 4,
 "nbformat_minor": 2
}
